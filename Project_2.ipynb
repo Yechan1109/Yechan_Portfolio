{
 "cells": [
  {
   "cell_type": "markdown",
   "metadata": {},
   "source": [
    "# 청소년 데이터 빈도 분석"
   ]
  },
  {
   "cell_type": "code",
   "execution_count": 106,
   "metadata": {},
   "outputs": [],
   "source": [
    "import pandas as pd\n",
    "import numpy as np"
   ]
  },
  {
   "cell_type": "code",
   "execution_count": 107,
   "metadata": {},
   "outputs": [
    {
     "data": {
      "text/html": [
       "<div>\n",
       "<style scoped>\n",
       "    .dataframe tbody tr th:only-of-type {\n",
       "        vertical-align: middle;\n",
       "    }\n",
       "\n",
       "    .dataframe tbody tr th {\n",
       "        vertical-align: top;\n",
       "    }\n",
       "\n",
       "    .dataframe thead th {\n",
       "        text-align: right;\n",
       "    }\n",
       "</style>\n",
       "<table border=\"1\" class=\"dataframe\">\n",
       "  <thead>\n",
       "    <tr style=\"text-align: right;\">\n",
       "      <th></th>\n",
       "      <th>contents</th>\n",
       "      <th>result</th>\n",
       "    </tr>\n",
       "  </thead>\n",
       "  <tbody>\n",
       "    <tr>\n",
       "      <th>0</th>\n",
       "      <td>집에 가면 항상 집에서 영화나 다큐멘터리 같은 거 봐요. 위인 있는 동\\n영상 보면...</td>\n",
       "      <td>1</td>\n",
       "    </tr>\n",
       "    <tr>\n",
       "      <th>1</th>\n",
       "      <td>대학학비 마련이 남아있는데 지금하고 있는 일만으로는 어려울 것 같아\\n요. 알바 하...</td>\n",
       "      <td>1</td>\n",
       "    </tr>\n",
       "    <tr>\n",
       "      <th>2</th>\n",
       "      <td>일을 해야 하니까 학교 그만둔 걸 숨길 수 없잖아요. 오히려 그것 땜에\\n불이익을 ...</td>\n",
       "      <td>1</td>\n",
       "    </tr>\n",
       "    <tr>\n",
       "      <th>3</th>\n",
       "      <td>군인, 경찰, 소방관 뭐 이런 쪽이었어요. 중학교 때까지 유도선수로 뛰었\\n기 때문...</td>\n",
       "      <td>1</td>\n",
       "    </tr>\n",
       "    <tr>\n",
       "      <th>4</th>\n",
       "      <td>지금까지 학교 그만둔 걸 후회해 본 적이 없었는데 작년에 딱 한 번 복\\n교를 생각...</td>\n",
       "      <td>1</td>\n",
       "    </tr>\n",
       "  </tbody>\n",
       "</table>\n",
       "</div>"
      ],
      "text/plain": [
       "                                            contents  result\n",
       "0  집에 가면 항상 집에서 영화나 다큐멘터리 같은 거 봐요. 위인 있는 동\\n영상 보면...       1\n",
       "1  대학학비 마련이 남아있는데 지금하고 있는 일만으로는 어려울 것 같아\\n요. 알바 하...       1\n",
       "2  일을 해야 하니까 학교 그만둔 걸 숨길 수 없잖아요. 오히려 그것 땜에\\n불이익을 ...       1\n",
       "3  군인, 경찰, 소방관 뭐 이런 쪽이었어요. 중학교 때까지 유도선수로 뛰었\\n기 때문...       1\n",
       "4  지금까지 학교 그만둔 걸 후회해 본 적이 없었는데 작년에 딱 한 번 복\\n교를 생각...       1"
      ]
     },
     "execution_count": 107,
     "metadata": {},
     "output_type": "execute_result"
    }
   ],
   "source": [
    "df = pd.read_csv('DS/textdata3-1.csv', encoding = 'utf-8')\n",
    "df.head()"
   ]
  },
  {
   "cell_type": "code",
   "execution_count": 108,
   "metadata": {},
   "outputs": [
    {
     "name": "stdout",
     "output_type": "stream",
     "text": [
      "('집', 'Noun')\n",
      "('가면', 'Noun')\n",
      "('항상', 'Noun')\n",
      "('집', 'Noun')\n",
      "('영화', 'Noun')\n",
      "('다큐멘터리', 'Noun')\n",
      "('거', 'Noun')\n",
      "('위인', 'Noun')\n",
      "('영상', 'Noun')\n",
      "('거기', 'Noun')\n",
      "('도움', 'Noun')\n",
      "('나', 'Noun')\n",
      "('정도', 'Noun')\n",
      "('것', 'Noun')\n",
      "('별', 'Noun')\n",
      "('것', 'Noun')\n",
      "('생각', 'Noun')\n",
      "('것', 'Noun')\n"
     ]
    }
   ],
   "source": [
    "from konlpy.tag import Okt\n",
    "twitter = Okt()\n",
    "\n",
    "def tokenize(text):\n",
    "    stems = []\n",
    "    tagged = twitter.pos(text)\n",
    "    for i in range(0, len(tagged)):\n",
    "        if (tagged[i][1] == 'Noun' or tagged[i][1] == 'Adjective' or tagged[i][1] == 'Verb'):\n",
    "            stems.append(tagged[i][0])\n",
    "    return stems\n",
    "\n",
    "tagged = twitter.pos(df['contents'][0])\n",
    "for i in range (0, len(tagged)):\n",
    "    if (tagged[i][1]=='Noun'):\n",
    "        print(tagged[i])"
   ]
  },
  {
   "cell_type": "code",
   "execution_count": 109,
   "metadata": {},
   "outputs": [],
   "source": [
    "from sklearn.feature_extraction.text import TfidfVectorizer"
   ]
  },
  {
   "cell_type": "code",
   "execution_count": 110,
   "metadata": {},
   "outputs": [],
   "source": [
    "text_data_list = df['contents'].astype(str).tolist()\n",
    "text_data_arr = np.array([''.join(text) for text in text_data_list])\n",
    "\n",
    "vectorizer = TfidfVectorizer(min_df=2, tokenizer=tokenize, norm='l2')\n",
    "text_data = vectorizer.fit_transform(text_data_arr)"
   ]
  },
  {
   "cell_type": "code",
   "execution_count": 111,
   "metadata": {},
   "outputs": [
    {
     "data": {
      "text/html": [
       "<div>\n",
       "<style scoped>\n",
       "    .dataframe tbody tr th:only-of-type {\n",
       "        vertical-align: middle;\n",
       "    }\n",
       "\n",
       "    .dataframe tbody tr th {\n",
       "        vertical-align: top;\n",
       "    }\n",
       "\n",
       "    .dataframe thead th {\n",
       "        text-align: right;\n",
       "    }\n",
       "</style>\n",
       "<table border=\"1\" class=\"dataframe\">\n",
       "  <thead>\n",
       "    <tr style=\"text-align: right;\">\n",
       "      <th></th>\n",
       "      <th>가</th>\n",
       "      <th>가고</th>\n",
       "      <th>가기</th>\n",
       "      <th>가끔</th>\n",
       "      <th>가는</th>\n",
       "      <th>가라앉을</th>\n",
       "      <th>가려고</th>\n",
       "      <th>가면</th>\n",
       "      <th>가서</th>\n",
       "      <th>가야</th>\n",
       "      <th>...</th>\n",
       "      <th>후계</th>\n",
       "      <th>후회</th>\n",
       "      <th>흐</th>\n",
       "      <th>희망</th>\n",
       "      <th>힘</th>\n",
       "      <th>힘든</th>\n",
       "      <th>힘들</th>\n",
       "      <th>힘들고</th>\n",
       "      <th>힘들어</th>\n",
       "      <th>힘들지만</th>\n",
       "    </tr>\n",
       "  </thead>\n",
       "  <tbody>\n",
       "    <tr>\n",
       "      <th>0</th>\n",
       "      <td>0.0</td>\n",
       "      <td>0.0</td>\n",
       "      <td>0.0</td>\n",
       "      <td>0.0</td>\n",
       "      <td>0.0</td>\n",
       "      <td>0.0</td>\n",
       "      <td>0.0</td>\n",
       "      <td>0.244662</td>\n",
       "      <td>0.0</td>\n",
       "      <td>0.000000</td>\n",
       "      <td>...</td>\n",
       "      <td>0.0</td>\n",
       "      <td>0.000000</td>\n",
       "      <td>0.0</td>\n",
       "      <td>0.0</td>\n",
       "      <td>0.0</td>\n",
       "      <td>0.234108</td>\n",
       "      <td>0.0</td>\n",
       "      <td>0.0</td>\n",
       "      <td>0.0</td>\n",
       "      <td>0.0</td>\n",
       "    </tr>\n",
       "    <tr>\n",
       "      <th>1</th>\n",
       "      <td>0.0</td>\n",
       "      <td>0.0</td>\n",
       "      <td>0.0</td>\n",
       "      <td>0.0</td>\n",
       "      <td>0.0</td>\n",
       "      <td>0.0</td>\n",
       "      <td>0.0</td>\n",
       "      <td>0.000000</td>\n",
       "      <td>0.0</td>\n",
       "      <td>0.000000</td>\n",
       "      <td>...</td>\n",
       "      <td>0.0</td>\n",
       "      <td>0.000000</td>\n",
       "      <td>0.0</td>\n",
       "      <td>0.0</td>\n",
       "      <td>0.0</td>\n",
       "      <td>0.000000</td>\n",
       "      <td>0.0</td>\n",
       "      <td>0.0</td>\n",
       "      <td>0.0</td>\n",
       "      <td>0.0</td>\n",
       "    </tr>\n",
       "    <tr>\n",
       "      <th>2</th>\n",
       "      <td>0.0</td>\n",
       "      <td>0.0</td>\n",
       "      <td>0.0</td>\n",
       "      <td>0.0</td>\n",
       "      <td>0.0</td>\n",
       "      <td>0.0</td>\n",
       "      <td>0.0</td>\n",
       "      <td>0.000000</td>\n",
       "      <td>0.0</td>\n",
       "      <td>0.000000</td>\n",
       "      <td>...</td>\n",
       "      <td>0.0</td>\n",
       "      <td>0.000000</td>\n",
       "      <td>0.0</td>\n",
       "      <td>0.0</td>\n",
       "      <td>0.0</td>\n",
       "      <td>0.000000</td>\n",
       "      <td>0.0</td>\n",
       "      <td>0.0</td>\n",
       "      <td>0.0</td>\n",
       "      <td>0.0</td>\n",
       "    </tr>\n",
       "    <tr>\n",
       "      <th>3</th>\n",
       "      <td>0.0</td>\n",
       "      <td>0.0</td>\n",
       "      <td>0.0</td>\n",
       "      <td>0.0</td>\n",
       "      <td>0.0</td>\n",
       "      <td>0.0</td>\n",
       "      <td>0.0</td>\n",
       "      <td>0.000000</td>\n",
       "      <td>0.0</td>\n",
       "      <td>0.141184</td>\n",
       "      <td>...</td>\n",
       "      <td>0.0</td>\n",
       "      <td>0.000000</td>\n",
       "      <td>0.0</td>\n",
       "      <td>0.0</td>\n",
       "      <td>0.0</td>\n",
       "      <td>0.000000</td>\n",
       "      <td>0.0</td>\n",
       "      <td>0.0</td>\n",
       "      <td>0.0</td>\n",
       "      <td>0.0</td>\n",
       "    </tr>\n",
       "    <tr>\n",
       "      <th>4</th>\n",
       "      <td>0.0</td>\n",
       "      <td>0.0</td>\n",
       "      <td>0.0</td>\n",
       "      <td>0.0</td>\n",
       "      <td>0.0</td>\n",
       "      <td>0.0</td>\n",
       "      <td>0.0</td>\n",
       "      <td>0.000000</td>\n",
       "      <td>0.0</td>\n",
       "      <td>0.000000</td>\n",
       "      <td>...</td>\n",
       "      <td>0.0</td>\n",
       "      <td>0.126704</td>\n",
       "      <td>0.0</td>\n",
       "      <td>0.0</td>\n",
       "      <td>0.0</td>\n",
       "      <td>0.000000</td>\n",
       "      <td>0.0</td>\n",
       "      <td>0.0</td>\n",
       "      <td>0.0</td>\n",
       "      <td>0.0</td>\n",
       "    </tr>\n",
       "  </tbody>\n",
       "</table>\n",
       "<p>5 rows × 716 columns</p>\n",
       "</div>"
      ],
      "text/plain": [
       "     가   가고   가기   가끔   가는  가라앉을  가려고        가면   가서        가야  ...   후계  \\\n",
       "0  0.0  0.0  0.0  0.0  0.0   0.0  0.0  0.244662  0.0  0.000000  ...  0.0   \n",
       "1  0.0  0.0  0.0  0.0  0.0   0.0  0.0  0.000000  0.0  0.000000  ...  0.0   \n",
       "2  0.0  0.0  0.0  0.0  0.0   0.0  0.0  0.000000  0.0  0.000000  ...  0.0   \n",
       "3  0.0  0.0  0.0  0.0  0.0   0.0  0.0  0.000000  0.0  0.141184  ...  0.0   \n",
       "4  0.0  0.0  0.0  0.0  0.0   0.0  0.0  0.000000  0.0  0.000000  ...  0.0   \n",
       "\n",
       "         후회    흐   희망    힘        힘든   힘들  힘들고  힘들어  힘들지만  \n",
       "0  0.000000  0.0  0.0  0.0  0.234108  0.0  0.0  0.0   0.0  \n",
       "1  0.000000  0.0  0.0  0.0  0.000000  0.0  0.0  0.0   0.0  \n",
       "2  0.000000  0.0  0.0  0.0  0.000000  0.0  0.0  0.0   0.0  \n",
       "3  0.000000  0.0  0.0  0.0  0.000000  0.0  0.0  0.0   0.0  \n",
       "4  0.126704  0.0  0.0  0.0  0.000000  0.0  0.0  0.0   0.0  \n",
       "\n",
       "[5 rows x 716 columns]"
      ]
     },
     "execution_count": 111,
     "metadata": {},
     "output_type": "execute_result"
    }
   ],
   "source": [
    "df_tfidf = pd.DataFrame(text_data.A, columns=vectorizer.get_feature_names())\n",
    "df_tfidf.head()"
   ]
  },
  {
   "cell_type": "code",
   "execution_count": 112,
   "metadata": {},
   "outputs": [],
   "source": [
    "df_tfidf.to_csv('DS/vectorizer_textdata3-1-1.csv', encoding='cp949')"
   ]
  },
  {
   "cell_type": "code",
   "execution_count": 113,
   "metadata": {},
   "outputs": [
    {
     "name": "stderr",
     "output_type": "stream",
     "text": [
      "C:\\Users\\YC\\Anaconda3\\lib\\site-packages\\seaborn\\categorical.py:3666: UserWarning: The `factorplot` function has been renamed to `catplot`. The original name will be removed in a future release. Please update your code. Note that the default `kind` in `factorplot` (`'point'`) has changed `'strip'` in `catplot`.\n",
      "  warnings.warn(msg)\n",
      "C:\\Users\\YC\\Anaconda3\\lib\\site-packages\\seaborn\\categorical.py:3672: UserWarning: The `size` paramter has been renamed to `height`; please update your code.\n",
      "  warnings.warn(msg, UserWarning)\n"
     ]
    },
    {
     "data": {
      "text/plain": [
       "<seaborn.axisgrid.FacetGrid at 0x1ea6458b438>"
      ]
     },
     "execution_count": 113,
     "metadata": {},
     "output_type": "execute_result"
    },
    {
     "data": {
      "image/png": "[encoded data removed]",
      "text/plain": [
       "<Figure size 360x360 with 1 Axes>"
      ]
     },
     "metadata": {
      "needs_background": "light"
     },
     "output_type": "display_data"
    }
   ],
   "source": [
    "%matplotlib inline\n",
    "import matplotlib.pyplot as plt\n",
    "import seaborn as sns\n",
    "g = sns.factorplot('result', data=df, kind='count', size=5)\n",
    "g.set_xlabels()"
   ]
  },
  {
   "cell_type": "markdown",
   "metadata": {},
   "source": [
    "## 분류"
   ]
  },
  {
   "cell_type": "code",
   "execution_count": 114,
   "metadata": {},
   "outputs": [],
   "source": [
    "#리스트로 변경\n",
    "contents_data = df['contents'].astype(str).tolist()\n",
    "contents_label = df['result'].astype(str).tolist()\n",
    "\n",
    "#데이터 셋 분할\n",
    "trainset_size = int(round(len(contents_data)*0.70))\n",
    "\n",
    "x_train = np.array([''.join(data) for data in contents_data[0:trainset_size]])\n",
    "y_train = np.array([data for data in contents_label[0:trainset_size]])\n",
    "\n",
    "x_test = np.array([''.join(data) for data in contents_data[trainset_size+1:len(contents_data)]])\n",
    "y_test = np.array([data for data in contents_label[trainset_size+1:len(contents_label)]])\n",
    "\n",
    "#문서 단어행렬 생성\n",
    "X_train = vectorizer.fit_transform(x_train)\n",
    "X_test = vectorizer.transform(x_test)\n"
   ]
  },
  {
   "cell_type": "code",
   "execution_count": 115,
   "metadata": {},
   "outputs": [
    {
     "data": {
      "text/html": [
       "<div>\n",
       "<style scoped>\n",
       "    .dataframe tbody tr th:only-of-type {\n",
       "        vertical-align: middle;\n",
       "    }\n",
       "\n",
       "    .dataframe tbody tr th {\n",
       "        vertical-align: top;\n",
       "    }\n",
       "\n",
       "    .dataframe thead th {\n",
       "        text-align: right;\n",
       "    }\n",
       "</style>\n",
       "<table border=\"1\" class=\"dataframe\">\n",
       "  <thead>\n",
       "    <tr style=\"text-align: right;\">\n",
       "      <th></th>\n",
       "      <th>Classifier</th>\n",
       "      <th>F-Measure</th>\n",
       "      <th>Accuracy</th>\n",
       "    </tr>\n",
       "  </thead>\n",
       "  <tbody>\n",
       "  </tbody>\n",
       "</table>\n",
       "</div>"
      ],
      "text/plain": [
       "Empty DataFrame\n",
       "Columns: [Classifier, F-Measure, Accuracy]\n",
       "Index: []"
      ]
     },
     "execution_count": 115,
     "metadata": {},
     "output_type": "execute_result"
    }
   ],
   "source": [
    "df_per = pd.DataFrame(columns=['Classifier', 'F-Measure', 'Accuracy'])\n",
    "df_per"
   ]
  },
  {
   "cell_type": "code",
   "execution_count": 116,
   "metadata": {},
   "outputs": [],
   "source": [
    "#성능 평가 패키지\n",
    "from sklearn.metrics import confusion_matrix\n",
    "from sklearn.metrics import classification_report\n",
    "from sklearn.metrics import f1_score\n",
    "from sklearn.metrics import accuracy_score"
   ]
  },
  {
   "cell_type": "markdown",
   "metadata": {},
   "source": [
    "### Naive Bayes"
   ]
  },
  {
   "cell_type": "code",
   "execution_count": 117,
   "metadata": {},
   "outputs": [
    {
     "name": "stdout",
     "output_type": "stream",
     "text": [
      "\n",
      " Confusion Matrix \n",
      "\n",
      "[[ 0 15]\n",
      " [ 0 21]]\n",
      "\n",
      " Classification Report \n",
      "\n",
      "              precision    recall  f1-score   support\n",
      "\n",
      "           0       0.00      0.00      0.00        15\n",
      "           1       0.58      1.00      0.74        21\n",
      "\n",
      "    accuracy                           0.58        36\n",
      "   macro avg       0.29      0.50      0.37        36\n",
      "weighted avg       0.34      0.58      0.43        36\n",
      "\n",
      "\n",
      " Accuracy \n",
      "\n",
      "0.58\n"
     ]
    },
    {
     "name": "stderr",
     "output_type": "stream",
     "text": [
      "C:\\Users\\YC\\Anaconda3\\lib\\site-packages\\sklearn\\metrics\\classification.py:1437: UndefinedMetricWarning: Precision and F-score are ill-defined and being set to 0.0 in labels with no predicted samples.\n",
      "  'precision', 'predicted', average, warn_for)\n",
      "C:\\Users\\YC\\Anaconda3\\lib\\site-packages\\sklearn\\metrics\\classification.py:1437: UndefinedMetricWarning: Precision and F-score are ill-defined and being set to 0.0 in labels with no predicted samples.\n",
      "  'precision', 'predicted', average, warn_for)\n",
      "C:\\Users\\YC\\Anaconda3\\lib\\site-packages\\sklearn\\metrics\\classification.py:1437: UndefinedMetricWarning: Precision and F-score are ill-defined and being set to 0.0 in labels with no predicted samples.\n",
      "  'precision', 'predicted', average, warn_for)\n"
     ]
    }
   ],
   "source": [
    "from sklearn.naive_bayes import MultinomialNB\n",
    "\n",
    "nb_classifier = MultinomialNB().fit(X_train, y_train)\n",
    "nb_pre = nb_classifier.predict(X_test)\n",
    "\n",
    "print('\\n Confusion Matrix \\n')\n",
    "print(confusion_matrix(y_test, nb_pre))\n",
    "print('\\n Classification Report \\n')\n",
    "print(classification_report(y_test,nb_pre))\n",
    "print('\\n Accuracy \\n')\n",
    "print(round(accuracy_score(y_test, nb_pre, normalize=True), 2))"
   ]
  },
  {
   "cell_type": "code",
   "execution_count": 118,
   "metadata": {},
   "outputs": [
    {
     "name": "stderr",
     "output_type": "stream",
     "text": [
      "C:\\Users\\YC\\Anaconda3\\lib\\site-packages\\sklearn\\metrics\\classification.py:1437: UndefinedMetricWarning: F-score is ill-defined and being set to 0.0 in labels with no predicted samples.\n",
      "  'precision', 'predicted', average, warn_for)\n"
     ]
    },
    {
     "data": {
      "text/html": [
       "<div>\n",
       "<style scoped>\n",
       "    .dataframe tbody tr th:only-of-type {\n",
       "        vertical-align: middle;\n",
       "    }\n",
       "\n",
       "    .dataframe tbody tr th {\n",
       "        vertical-align: top;\n",
       "    }\n",
       "\n",
       "    .dataframe thead th {\n",
       "        text-align: right;\n",
       "    }\n",
       "</style>\n",
       "<table border=\"1\" class=\"dataframe\">\n",
       "  <thead>\n",
       "    <tr style=\"text-align: right;\">\n",
       "      <th></th>\n",
       "      <th>Classifier</th>\n",
       "      <th>F-Measure</th>\n",
       "      <th>Accuracy</th>\n",
       "    </tr>\n",
       "  </thead>\n",
       "  <tbody>\n",
       "    <tr>\n",
       "      <th>0</th>\n",
       "      <td>Naive Bayes</td>\n",
       "      <td>0.43</td>\n",
       "      <td>0.58</td>\n",
       "    </tr>\n",
       "  </tbody>\n",
       "</table>\n",
       "</div>"
      ],
      "text/plain": [
       "    Classifier  F-Measure  Accuracy\n",
       "0  Naive Bayes       0.43      0.58"
      ]
     },
     "execution_count": 118,
     "metadata": {},
     "output_type": "execute_result"
    }
   ],
   "source": [
    "fm = round(f1_score(y_test, nb_pre, average='weighted'), 2)\n",
    "ac = round(accuracy_score(y_test, nb_pre, normalize=True), 2)\n",
    "df_per.loc[len(df_per)] = ['Naive Bayes', fm, ac]\n",
    "df_per"
   ]
  },
  {
   "cell_type": "markdown",
   "metadata": {},
   "source": [
    "### Decision tree"
   ]
  },
  {
   "cell_type": "code",
   "execution_count": 119,
   "metadata": {},
   "outputs": [
    {
     "name": "stdout",
     "output_type": "stream",
     "text": [
      "\n",
      " Confusion Matrix \n",
      "\n",
      "[[10  5]\n",
      " [ 7 14]]\n",
      "\n",
      " Classification Report \n",
      "\n",
      "              precision    recall  f1-score   support\n",
      "\n",
      "           0       0.59      0.67      0.62        15\n",
      "           1       0.74      0.67      0.70        21\n",
      "\n",
      "    accuracy                           0.67        36\n",
      "   macro avg       0.66      0.67      0.66        36\n",
      "weighted avg       0.67      0.67      0.67        36\n",
      "\n",
      "\n",
      " Accuracy \n",
      "\n",
      "0.67\n"
     ]
    }
   ],
   "source": [
    "from sklearn.tree import DecisionTreeClassifier\n",
    "\n",
    "nb_classifier = DecisionTreeClassifier().fit(X_train, y_train)\n",
    "nb_pre = nb_classifier.predict(X_test)\n",
    "\n",
    "print('\\n Confusion Matrix \\n')\n",
    "print(confusion_matrix(y_test, nb_pre))\n",
    "print('\\n Classification Report \\n')\n",
    "print(classification_report(y_test,nb_pre))\n",
    "print('\\n Accuracy \\n')\n",
    "print(round(accuracy_score(y_test, nb_pre, normalize=True), 2))"
   ]
  },
  {
   "cell_type": "code",
   "execution_count": 120,
   "metadata": {},
   "outputs": [
    {
     "data": {
      "text/html": [
       "<div>\n",
       "<style scoped>\n",
       "    .dataframe tbody tr th:only-of-type {\n",
       "        vertical-align: middle;\n",
       "    }\n",
       "\n",
       "    .dataframe tbody tr th {\n",
       "        vertical-align: top;\n",
       "    }\n",
       "\n",
       "    .dataframe thead th {\n",
       "        text-align: right;\n",
       "    }\n",
       "</style>\n",
       "<table border=\"1\" class=\"dataframe\">\n",
       "  <thead>\n",
       "    <tr style=\"text-align: right;\">\n",
       "      <th></th>\n",
       "      <th>Classifier</th>\n",
       "      <th>F-Measure</th>\n",
       "      <th>Accuracy</th>\n",
       "    </tr>\n",
       "  </thead>\n",
       "  <tbody>\n",
       "    <tr>\n",
       "      <th>0</th>\n",
       "      <td>Naive Bayes</td>\n",
       "      <td>0.43</td>\n",
       "      <td>0.58</td>\n",
       "    </tr>\n",
       "    <tr>\n",
       "      <th>1</th>\n",
       "      <td>Decision Tree</td>\n",
       "      <td>0.67</td>\n",
       "      <td>0.67</td>\n",
       "    </tr>\n",
       "  </tbody>\n",
       "</table>\n",
       "</div>"
      ],
      "text/plain": [
       "      Classifier  F-Measure  Accuracy\n",
       "0    Naive Bayes       0.43      0.58\n",
       "1  Decision Tree       0.67      0.67"
      ]
     },
     "execution_count": 120,
     "metadata": {},
     "output_type": "execute_result"
    }
   ],
   "source": [
    "fm = round(f1_score(y_test, nb_pre, average='weighted'), 2)\n",
    "ac = round(accuracy_score(y_test, nb_pre, normalize=True), 2)\n",
    "df_per.loc[len(df_per)] = ['Decision Tree', fm, ac]\n",
    "df_per"
   ]
  },
  {
   "cell_type": "markdown",
   "metadata": {},
   "source": [
    "### Random Forest"
   ]
  },
  {
   "cell_type": "code",
   "execution_count": 121,
   "metadata": {},
   "outputs": [
    {
     "name": "stdout",
     "output_type": "stream",
     "text": [
      "\n",
      " Confusion Matrix \n",
      "\n",
      "[[ 4 11]\n",
      " [ 3 18]]\n",
      "\n",
      " Classification Report \n",
      "\n",
      "              precision    recall  f1-score   support\n",
      "\n",
      "           0       0.57      0.27      0.36        15\n",
      "           1       0.62      0.86      0.72        21\n",
      "\n",
      "    accuracy                           0.61        36\n",
      "   macro avg       0.60      0.56      0.54        36\n",
      "weighted avg       0.60      0.61      0.57        36\n",
      "\n",
      "\n",
      " Accuracy \n",
      "\n",
      "0.61\n"
     ]
    },
    {
     "name": "stderr",
     "output_type": "stream",
     "text": [
      "C:\\Users\\YC\\Anaconda3\\lib\\site-packages\\sklearn\\ensemble\\forest.py:245: FutureWarning: The default value of n_estimators will change from 10 in version 0.20 to 100 in 0.22.\n",
      "  \"10 in version 0.20 to 100 in 0.22.\", FutureWarning)\n"
     ]
    }
   ],
   "source": [
    "from sklearn.ensemble import RandomForestClassifier\n",
    "\n",
    "nb_classifier = RandomForestClassifier().fit(X_train, y_train)\n",
    "nb_pre = nb_classifier.predict(X_test)\n",
    "\n",
    "print('\\n Confusion Matrix \\n')\n",
    "print(confusion_matrix(y_test, nb_pre))\n",
    "print('\\n Classification Report \\n')\n",
    "print(classification_report(y_test,nb_pre))\n",
    "print('\\n Accuracy \\n')\n",
    "print(round(accuracy_score(y_test, nb_pre, normalize=True), 2))"
   ]
  },
  {
   "cell_type": "code",
   "execution_count": 122,
   "metadata": {},
   "outputs": [
    {
     "data": {
      "text/html": [
       "<div>\n",
       "<style scoped>\n",
       "    .dataframe tbody tr th:only-of-type {\n",
       "        vertical-align: middle;\n",
       "    }\n",
       "\n",
       "    .dataframe tbody tr th {\n",
       "        vertical-align: top;\n",
       "    }\n",
       "\n",
       "    .dataframe thead th {\n",
       "        text-align: right;\n",
       "    }\n",
       "</style>\n",
       "<table border=\"1\" class=\"dataframe\">\n",
       "  <thead>\n",
       "    <tr style=\"text-align: right;\">\n",
       "      <th></th>\n",
       "      <th>Classifier</th>\n",
       "      <th>F-Measure</th>\n",
       "      <th>Accuracy</th>\n",
       "    </tr>\n",
       "  </thead>\n",
       "  <tbody>\n",
       "    <tr>\n",
       "      <th>0</th>\n",
       "      <td>Naive Bayes</td>\n",
       "      <td>0.43</td>\n",
       "      <td>0.58</td>\n",
       "    </tr>\n",
       "    <tr>\n",
       "      <th>1</th>\n",
       "      <td>Decision Tree</td>\n",
       "      <td>0.67</td>\n",
       "      <td>0.67</td>\n",
       "    </tr>\n",
       "    <tr>\n",
       "      <th>2</th>\n",
       "      <td>Random Forest</td>\n",
       "      <td>0.57</td>\n",
       "      <td>0.61</td>\n",
       "    </tr>\n",
       "  </tbody>\n",
       "</table>\n",
       "</div>"
      ],
      "text/plain": [
       "      Classifier  F-Measure  Accuracy\n",
       "0    Naive Bayes       0.43      0.58\n",
       "1  Decision Tree       0.67      0.67\n",
       "2  Random Forest       0.57      0.61"
      ]
     },
     "execution_count": 122,
     "metadata": {},
     "output_type": "execute_result"
    }
   ],
   "source": [
    "fm = round(f1_score(y_test, nb_pre, average='weighted'), 2)\n",
    "ac = round(accuracy_score(y_test, nb_pre, normalize=True), 2)\n",
    "df_per.loc[len(df_per)] = ['Random Forest', fm, ac]\n",
    "df_per"
   ]
  },
  {
   "cell_type": "markdown",
   "metadata": {},
   "source": [
    "### SVM"
   ]
  },
  {
   "cell_type": "code",
   "execution_count": 123,
   "metadata": {},
   "outputs": [
    {
     "name": "stdout",
     "output_type": "stream",
     "text": [
      "\n",
      " Confusion Matrix \n",
      "\n",
      "[[ 3 12]\n",
      " [ 2 19]]\n",
      "\n",
      " Classification Report \n",
      "\n",
      "              precision    recall  f1-score   support\n",
      "\n",
      "           0       0.60      0.20      0.30        15\n",
      "           1       0.61      0.90      0.73        21\n",
      "\n",
      "    accuracy                           0.61        36\n",
      "   macro avg       0.61      0.55      0.52        36\n",
      "weighted avg       0.61      0.61      0.55        36\n",
      "\n",
      "\n",
      " Accuracy \n",
      "\n",
      "0.61\n"
     ]
    }
   ],
   "source": [
    "from sklearn.svm import LinearSVC\n",
    "\n",
    "nb_classifier = LinearSVC().fit(X_train, y_train)\n",
    "nb_pre = nb_classifier.predict(X_test)\n",
    "\n",
    "print('\\n Confusion Matrix \\n')\n",
    "print(confusion_matrix(y_test, nb_pre))\n",
    "print('\\n Classification Report \\n')\n",
    "print(classification_report(y_test,nb_pre))\n",
    "print('\\n Accuracy \\n')\n",
    "print(round(accuracy_score(y_test, nb_pre, normalize=True), 2))"
   ]
  },
  {
   "cell_type": "code",
   "execution_count": 124,
   "metadata": {},
   "outputs": [
    {
     "data": {
      "text/html": [
       "<div>\n",
       "<style scoped>\n",
       "    .dataframe tbody tr th:only-of-type {\n",
       "        vertical-align: middle;\n",
       "    }\n",
       "\n",
       "    .dataframe tbody tr th {\n",
       "        vertical-align: top;\n",
       "    }\n",
       "\n",
       "    .dataframe thead th {\n",
       "        text-align: right;\n",
       "    }\n",
       "</style>\n",
       "<table border=\"1\" class=\"dataframe\">\n",
       "  <thead>\n",
       "    <tr style=\"text-align: right;\">\n",
       "      <th></th>\n",
       "      <th>Classifier</th>\n",
       "      <th>F-Measure</th>\n",
       "      <th>Accuracy</th>\n",
       "    </tr>\n",
       "  </thead>\n",
       "  <tbody>\n",
       "    <tr>\n",
       "      <th>0</th>\n",
       "      <td>Naive Bayes</td>\n",
       "      <td>0.43</td>\n",
       "      <td>0.58</td>\n",
       "    </tr>\n",
       "    <tr>\n",
       "      <th>1</th>\n",
       "      <td>Decision Tree</td>\n",
       "      <td>0.67</td>\n",
       "      <td>0.67</td>\n",
       "    </tr>\n",
       "    <tr>\n",
       "      <th>2</th>\n",
       "      <td>Random Forest</td>\n",
       "      <td>0.57</td>\n",
       "      <td>0.61</td>\n",
       "    </tr>\n",
       "    <tr>\n",
       "      <th>3</th>\n",
       "      <td>SVM</td>\n",
       "      <td>0.55</td>\n",
       "      <td>0.61</td>\n",
       "    </tr>\n",
       "  </tbody>\n",
       "</table>\n",
       "</div>"
      ],
      "text/plain": [
       "      Classifier  F-Measure  Accuracy\n",
       "0    Naive Bayes       0.43      0.58\n",
       "1  Decision Tree       0.67      0.67\n",
       "2  Random Forest       0.57      0.61\n",
       "3            SVM       0.55      0.61"
      ]
     },
     "execution_count": 124,
     "metadata": {},
     "output_type": "execute_result"
    }
   ],
   "source": [
    "fm = round(f1_score(y_test, nb_pre, average='weighted'), 2)\n",
    "ac = round(accuracy_score(y_test, nb_pre, normalize=True), 2)\n",
    "df_per.loc[len(df_per)] = ['SVM', fm, ac]\n",
    "df_per"
   ]
  },
  {
   "cell_type": "markdown",
   "metadata": {},
   "source": [
    "#### 성능비교"
   ]
  },
  {
   "cell_type": "code",
   "execution_count": 125,
   "metadata": {},
   "outputs": [
    {
     "data": {
      "text/html": [
       "<div>\n",
       "<style scoped>\n",
       "    .dataframe tbody tr th:only-of-type {\n",
       "        vertical-align: middle;\n",
       "    }\n",
       "\n",
       "    .dataframe tbody tr th {\n",
       "        vertical-align: top;\n",
       "    }\n",
       "\n",
       "    .dataframe thead th {\n",
       "        text-align: right;\n",
       "    }\n",
       "</style>\n",
       "<table border=\"1\" class=\"dataframe\">\n",
       "  <thead>\n",
       "    <tr style=\"text-align: right;\">\n",
       "      <th></th>\n",
       "      <th>F-Measure</th>\n",
       "      <th>Accuracy</th>\n",
       "    </tr>\n",
       "    <tr>\n",
       "      <th>Classifier</th>\n",
       "      <th></th>\n",
       "      <th></th>\n",
       "    </tr>\n",
       "  </thead>\n",
       "  <tbody>\n",
       "    <tr>\n",
       "      <th>Naive Bayes</th>\n",
       "      <td>0.43</td>\n",
       "      <td>0.58</td>\n",
       "    </tr>\n",
       "    <tr>\n",
       "      <th>Decision Tree</th>\n",
       "      <td>0.67</td>\n",
       "      <td>0.67</td>\n",
       "    </tr>\n",
       "    <tr>\n",
       "      <th>Random Forest</th>\n",
       "      <td>0.57</td>\n",
       "      <td>0.61</td>\n",
       "    </tr>\n",
       "    <tr>\n",
       "      <th>SVM</th>\n",
       "      <td>0.55</td>\n",
       "      <td>0.61</td>\n",
       "    </tr>\n",
       "  </tbody>\n",
       "</table>\n",
       "</div>"
      ],
      "text/plain": [
       "               F-Measure  Accuracy\n",
       "Classifier                        \n",
       "Naive Bayes         0.43      0.58\n",
       "Decision Tree       0.67      0.67\n",
       "Random Forest       0.57      0.61\n",
       "SVM                 0.55      0.61"
      ]
     },
     "execution_count": 125,
     "metadata": {},
     "output_type": "execute_result"
    }
   ],
   "source": [
    "df_per_1 = df_per.set_index('Classifier')\n",
    "df_per_1"
   ]
  },
  {
   "cell_type": "code",
   "execution_count": 126,
   "metadata": {},
   "outputs": [
    {
     "data": {
      "image/png": "[encoded data removed]",
      "text/plain": [
       "<Figure size 720x504 with 1 Axes>"
      ]
     },
     "metadata": {
      "needs_background": "light"
     },
     "output_type": "display_data"
    }
   ],
   "source": [
    "%matplotlib inline\n",
    "import matplotlib.pyplot as plt\n",
    "ax = df_per_1[['F-Measure', 'Accuracy']].plot(kind='bar', title='Accuracy Results',\n",
    "                                             figsize=(10,7), legend=True, fontsize=12)\n",
    "ax.set_xlabel('Classifier', fontsize=12)\n",
    "plt.show()"
   ]
  },
  {
   "cell_type": "code",
   "execution_count": null,
   "metadata": {},
   "outputs": [],
   "source": []
  }
 ],
 "metadata": {
  "kernelspec": {
   "display_name": "Python 3",
   "language": "python",
   "name": "python3"
  },
  "language_info": {
   "codemirror_mode": {
    "name": "ipython",
    "version": 3
   },
   "file_extension": ".py",
   "mimetype": "text/x-python",
   "name": "python",
   "nbconvert_exporter": "python",
   "pygments_lexer": "ipython3",
   "version": "3.7.3"
  }
 },
 "nbformat": 4,
 "nbformat_minor": 2
}
